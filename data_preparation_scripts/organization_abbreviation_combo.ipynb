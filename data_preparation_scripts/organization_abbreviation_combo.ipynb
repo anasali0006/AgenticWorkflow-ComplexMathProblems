{
 "cells": [
  {
   "cell_type": "code",
   "execution_count": 1,
   "metadata": {},
   "outputs": [],
   "source": [
    "import json\n",
    "\n",
    "file_path = \"../train.json\"\n",
    "with open(file_path, \"r\") as file:\n",
    "    data = json.load(file)"
   ]
  },
  {
   "cell_type": "code",
   "execution_count": 2,
   "metadata": {},
   "outputs": [
    {
     "data": {
      "text/plain": [
       "133"
      ]
     },
     "execution_count": 2,
     "metadata": {},
     "output_type": "execute_result"
    }
   ],
   "source": [
    "all_abbreviations = list(set([item['filename'].split('/')[0] for item in data]))\n",
    "len(all_abbreviations)"
   ]
  },
  {
   "cell_type": "code",
   "execution_count": 3,
   "metadata": {},
   "outputs": [],
   "source": [
    "import pandas as pd\n",
    "\n",
    "nasdaq_dataset = pd.read_csv(\"nasdaq_screener.csv\")\n",
    "\n",
    "name_abbreviation_combo = {}\n",
    "\n",
    "for abbreviation in all_abbreviations:\n",
    "    name = nasdaq_dataset[nasdaq_dataset['Symbol']==abbreviation]['Name'].values\n",
    "    name = name[0] if len(name) > 0 else None\n",
    "    name_abbreviation_combo[abbreviation]=name"
   ]
  },
  {
   "cell_type": "code",
   "execution_count": 4,
   "metadata": {},
   "outputs": [
    {
     "name": "stdout",
     "output_type": "stream",
     "text": [
      "WRK\n",
      "ALXN\n",
      "HFC\n",
      "RE\n",
      "ETFC\n",
      "MRO\n",
      "DISH\n",
      "DISCA\n",
      "DRE\n",
      "ABMD\n",
      "FBHS\n",
      "BLL\n"
     ]
    }
   ],
   "source": [
    "for abb in name_abbreviation_combo:\n",
    "    if name_abbreviation_combo[abb] == None:\n",
    "        print(abb)"
   ]
  },
  {
   "cell_type": "code",
   "execution_count": 5,
   "metadata": {},
   "outputs": [],
   "source": [
    "name_abbreviation_combo['HFC'] = \"HollyFrontier Corporation\"\n",
    "name_abbreviation_combo['DISCA'] = \"Warner Bros Discovery Inc\"\n",
    "name_abbreviation_combo['RE'] = \"R.E.A. Holdings plc (LON:RE)\"\n",
    "name_abbreviation_combo['BLL'] = \"Ball Corporation\"\n",
    "name_abbreviation_combo['MRO'] = \"Marathon Oil Corporation\"\n",
    "name_abbreviation_combo['DISH'] = \"DISH Network Corporation\"\n",
    "name_abbreviation_combo['FBHS'] = \"Fortune Brands Home & Security Inc\"\n",
    "name_abbreviation_combo['ETFC'] = \"E-TRADE Financial Corporation\"\n",
    "name_abbreviation_combo['ABMD'] = \"ABIOMED\"\n",
    "name_abbreviation_combo['ALXN'] = \"Alexion Pharmaceuticals\"\n",
    "name_abbreviation_combo['WRK'] = \"WestRock Co\"\n",
    "name_abbreviation_combo['DRE'] = \"Duke Realty Corporation\"\n",
    "\n"
   ]
  },
  {
   "cell_type": "code",
   "execution_count": 7,
   "metadata": {},
   "outputs": [
    {
     "name": "stdout",
     "output_type": "stream",
     "text": [
      "Entergy Corporati\n",
      "American Tower Corporation (REIT)\n",
      "Citigroup Inc.\n",
      "The AES Corporati\n",
      "PNC Financial Services Group Inc. (The)\n",
      "United Parcel Service Inc.\n",
      "Texas Instruments Incorporated\n",
      "Philip Morris International I\n",
      "Zimmer Biomet Holdings Inc.\n",
      "Arista Networks Inc.\n",
      "Tractor Supply Company\n",
      "Teleflex Incorporated\n",
      "Snap-On Incorporated\n",
      "CME Group Inc. Class A\n",
      "Lockheed Martin Corporati\n",
      "O'Reilly Automotive Inc.\n",
      "Huntington Ingalls Industries Inc.\n",
      "Mastercard Incorporated\n",
      "Under Armour Inc. Class\n",
      "Fifth Third Bancorp\n",
      "Apple Inc.\n",
      "PPG Industries Inc.\n",
      "Global Payments Inc.\n",
      "Vornado Realty Trus\n",
      "Air Products and Chemicals Inc.\n",
      "Howmet Aerospace Inc.\n",
      "Kinder Morgan Inc.\n",
      "A.O. Smith Corporati\n",
      "Centene Corporati\n",
      "SL Green Realty Corp\n",
      "3M Company\n",
      "Motorola Solutions Inc.\n",
      "Ventas Inc.\n",
      "Host Hotels & Resorts Inc.\n",
      "American Airlines Group Inc.\n",
      "Edwards Lifesciences Corporati\n",
      "American Water Works Company Inc.\n",
      "JP Morgan Chase & Co.\n",
      "Baker Hughes Company Class A\n",
      "Fortive Corporati\n",
      "Sysco Corporati\n",
      "Devon Energy Corporati\n",
      "Caterpillar Inc.\n",
      "Merck & Company Inc. Common Stock (new)\n",
      "Booking Holdings Inc.\n",
      "Mid-America Apartment Communities Inc.\n",
      "Hologic Inc.\n",
      "Estee Lauder Companies Inc. (The)\n",
      "Marriott International Class A\n",
      "Constellation Brands Inc.\n",
      "S&P Global Inc.\n",
      "Morgan Stanley\n",
      "General Mills Inc.\n",
      "Adobe Inc.\n",
      "Expeditors International of Washington Inc.\n",
      "Illumina Inc.\n",
      "Nike Inc.\n",
      "International Paper Company\n",
      "Union Pacific Corporati\n",
      "T-Mobile US Inc.\n",
      "Analog Devices Inc.\n",
      "Jack Henry & Associates Inc.\n",
      "Valero Energy Corporati\n",
      "Welltower Inc.\n",
      "Skyworks Solutions Inc.\n",
      "Extra Space Storage I\n",
      "ONEOK Inc.\n",
      "ANSYS Inc.\n",
      "Packaging Corporation of America\n",
      "BlackRock Inc.\n",
      "Royal Caribbean Cruises Ltd.\n",
      "Goldman Sachs Group Inc. (The)\n",
      "The Kraft Heinz Company\n",
      "State Street Corporati\n",
      "CDW Corporati\n",
      "Dollar General Corporati\n",
      "MarketAxess Holdings Inc.\n",
      "Becton Dickinson and Company\n",
      "The Hartford Insurance Group Inc.\n",
      "Applied Materials Inc.\n",
      "Under Armour Inc. Class A\n",
      "Eastman Chemical Company\n",
      "Ecolab Inc.\n",
      "Chubb Limited\n",
      "News Corporation Class B\n",
      "Dominion Energy Inc.\n",
      "Intel Corporati\n",
      "Schlumberger N.V.\n",
      "Kellanova\n",
      "EOG Resources Inc.\n",
      "Republic Services Inc.\n",
      "Loews Corporati\n",
      "Regeneron Pharmaceuticals Inc.\n",
      "Garmin Ltd. Common Stock (Switzerland)\n",
      "NetApp Inc.\n",
      "Masco Corporati\n",
      "T. Rowe Price Group Inc.\n",
      "Celanese Corporati\n",
      "LKQ Corporati\n",
      "Humana Inc.\n",
      "Comcast Corporation Class A\n",
      "Fidelity National Information Services Inc.\n",
      "Walmart Inc.\n",
      "Interpublic Group of Companies Inc. (The)\n",
      "Federal Realty Investment Trus\n",
      "Vertex Pharmaceuticals Incorporated\n",
      "Ralph Lauren Corporati\n",
      "Kimco Realty Corporation (HC)\n",
      "Eli Lilly and Company\n",
      "ConAgra Brands Inc.\n",
      "IQVIA Holdings Inc.\n",
      "Cadence Design Systems Inc.\n",
      "Synopsys Inc.\n",
      "Emerson Electric Company\n"
     ]
    }
   ],
   "source": [
    "for abb in name_abbreviation_combo:\n",
    "    if \"common stock\" in name_abbreviation_combo[abb].lower():\n",
    "        name_abbreviation_combo[abb] = name_abbreviation_combo[abb].rstrip(\"Common Stock\")\n",
    "        print(name_abbreviation_combo[abb])\n",
    "    "
   ]
  },
  {
   "cell_type": "code",
   "execution_count": 8,
   "metadata": {},
   "outputs": [],
   "source": [
    "import json\n",
    "\n",
    "with open(\"new_combinations.json\", \"w\") as file:\n",
    "    json.dump(name_abbreviation_combo, file, indent=4) "
   ]
  },
  {
   "cell_type": "code",
   "execution_count": null,
   "metadata": {},
   "outputs": [],
   "source": [
    "\n",
    "# abbreviation_text = {}\n",
    "# for abbreviation in all_abbreviations:\n",
    "#     for item in data:\n",
    "#         if item['filename'].split('/')[0] == abbreviation:\n",
    "  \n",
    "#             selected_data = f\"\"\"Pre-Text:{str(item['pre_text'])} \\n\n",
    "#                                 Post-Text: {str(item['post_text'])}\"\"\"\n",
    "               \n",
    "#             abbreviation_text [abbreviation] = selected_data\n",
    "\n"
   ]
  },
  {
   "cell_type": "code",
   "execution_count": null,
   "metadata": {},
   "outputs": [
    {
     "name": "stdout",
     "output_type": "stream",
     "text": [
      "Approximte Cost --> $ 0.0168255\n"
     ]
    }
   ],
   "source": [
    "# import tiktoken\n",
    "\n",
    "# encoding_mini = tiktoken.encoding_for_model('gpt-4o-mini')\n",
    "\n",
    "# total_tokens = 0\n",
    "# additional_instructions_tokens = 50\n",
    "# for abbreviation in abbreviation_text.keys():\n",
    "#     text = abbreviation_text[abbreviation]\n",
    "#     current_tokens = len(encoding_mini.encode(text))\n",
    "#     total_tokens+=current_tokens\n",
    "#     total_tokens+=additional_instructions_tokens\n",
    "\n",
    "# print(\"Approximte Cost --> $\", total_tokens*0.15/1000000)"
   ]
  },
  {
   "cell_type": "code",
   "execution_count": null,
   "metadata": {},
   "outputs": [],
   "source": [
    "# from openai import OpenAI\n",
    "# from dotenv import load_dotenv\n",
    "# import os\n",
    "\n",
    "# # Setting the API Key\n",
    "# dotenv_path = os.path.abspath(os.path.join(os.path.dirname(\"__file__\"), \"../..\", \"OPENAI_KEY.env\"))\n",
    "# load_dotenv(dotenv_path)\n",
    "\n",
    "\n",
    "# api_key = os.getenv(\"OPENAI_API_KEY\")\n",
    "\n",
    "# client = OpenAI(\n",
    "#     api_key=api_key,\n",
    "# )"
   ]
  },
  {
   "cell_type": "code",
   "execution_count": null,
   "metadata": {},
   "outputs": [],
   "source": [
    "# system_message = \"\"\"\n",
    "# You are a helpful assistant. You will be given an abbreviation, and a text. \n",
    "# The abbreivation is name of the organization. You should:\n",
    "\n",
    "# 1. Check if the abbreviation name is present in the text\n",
    "# 2. If present give it at output\n",
    "# 3. If not present, see if this abbreviation is for some very well known organization\n",
    "# 4. If so, then give the name at the output\n",
    "# 5. Otherwise, give None at output\n",
    "\n",
    "# You have to give JSON output, with following structure:\n",
    "# {\n",
    "# 'organization_full_name' : full name of the organization,   \n",
    "# }\n",
    "\n",
    "# Keep in mind that organization name should match the abbreviation. There can be \n",
    "# other names in the text like S&P as this is a financial dataset. We are not looking for those. If \n",
    "# you are unable to find the name, just write None for that entry.\n",
    "# This is from ConvFinQA dataset. \n",
    "# \"\"\"\n"
   ]
  },
  {
   "cell_type": "code",
   "execution_count": null,
   "metadata": {},
   "outputs": [],
   "source": [
    "# from pydantic import BaseModel\n",
    "\n",
    "# class Organization(BaseModel):\n",
    "#     organization_full_name : str"
   ]
  },
  {
   "cell_type": "code",
   "execution_count": null,
   "metadata": {},
   "outputs": [],
   "source": [
    "# combination_dict = {}\n",
    "\n",
    "# for abbreviation in abbreviation_text.keys():\n",
    "#     text = abbreviation_text[abbreviation]\n",
    "\n",
    "#     user_message = f\"\"\"\n",
    "#     Abbreviation = {abbreviation}\n",
    "#     Text = {text}\n",
    "#     \"\"\"\n",
    "\n",
    "#     completion = client.beta.chat.completions.parse(\n",
    "#     model=\"gpt-4o-mini\",\n",
    "#     messages=[\n",
    "#         {\"role\": \"developer\", \"content\": system_message},\n",
    "#         {\"role\": \"user\", \"content\": user_message}\n",
    "#     ],\n",
    "#     response_format=Organization\n",
    "#     )\n",
    "\n",
    "#     organization_name = completion.choices[0].message.parsed.organization_full_name\n",
    "\n",
    "#     combination_dict[abbreviation] = organization_name\n"
   ]
  }
 ],
 "metadata": {
  "kernelspec": {
   "display_name": "tomoro",
   "language": "python",
   "name": "python3"
  },
  "language_info": {
   "codemirror_mode": {
    "name": "ipython",
    "version": 3
   },
   "file_extension": ".py",
   "mimetype": "text/x-python",
   "name": "python",
   "nbconvert_exporter": "python",
   "pygments_lexer": "ipython3",
   "version": "3.12.8"
  }
 },
 "nbformat": 4,
 "nbformat_minor": 2
}
