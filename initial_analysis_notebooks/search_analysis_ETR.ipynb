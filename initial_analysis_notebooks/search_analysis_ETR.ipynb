{
 "cells": [
  {
   "cell_type": "code",
   "execution_count": 2,
   "metadata": {},
   "outputs": [],
   "source": [
    "import json\n",
    "\n",
    "file_path = \"../train.json\"\n",
    "with open(file_path, \"r\") as file:\n",
    "    data = json.load(file)"
   ]
  },
  {
   "cell_type": "code",
   "execution_count": 7,
   "metadata": {},
   "outputs": [
    {
     "name": "stdout",
     "output_type": "stream",
     "text": [
      "TOTAL TOKENS:  148980\n",
      "Price for Embedding V3 Small -> 0.0029796\n",
      "Price for Embedding V3 Large -> 0.0193674\n",
      "\n"
     ]
    },
    {
     "data": {
      "text/html": [
       "<div>\n",
       "<style scoped>\n",
       "    .dataframe tbody tr th:only-of-type {\n",
       "        vertical-align: middle;\n",
       "    }\n",
       "\n",
       "    .dataframe tbody tr th {\n",
       "        vertical-align: top;\n",
       "    }\n",
       "\n",
       "    .dataframe thead th {\n",
       "        text-align: right;\n",
       "    }\n",
       "</style>\n",
       "<table border=\"1\" class=\"dataframe\">\n",
       "  <thead>\n",
       "    <tr style=\"text-align: right;\">\n",
       "      <th></th>\n",
       "      <th>Context</th>\n",
       "      <th>QuestionsList</th>\n",
       "    </tr>\n",
       "  </thead>\n",
       "  <tbody>\n",
       "    <tr>\n",
       "      <th>Single_ETR/2008/page_336.pdf-3</th>\n",
       "      <td>Pre-Text:['entergy mississippi , inc .', \"mana...</td>\n",
       "      <td>what is the percent change in net revenue betw...</td>\n",
       "    </tr>\n",
       "    <tr>\n",
       "      <th>Single_ETR/2011/page_22.pdf-3</th>\n",
       "      <td>Pre-Text:[\"entergy corporation and subsidiarie...</td>\n",
       "      <td>what was the percentage change of the net reve...</td>\n",
       "    </tr>\n",
       "    <tr>\n",
       "      <th>Single_ETR/2011/page_435.pdf-2</th>\n",
       "      <td>Pre-Text:['the target awards for the other nam...</td>\n",
       "      <td>what is actual operating cash flow reported fo...</td>\n",
       "    </tr>\n",
       "    <tr>\n",
       "      <th>Single_ETR/2004/page_20.pdf-2</th>\n",
       "      <td>Pre-Text:[\"entergy corporation and subsidiarie...</td>\n",
       "      <td>what is the growth rate in net revenue in 2003...</td>\n",
       "    </tr>\n",
       "    <tr>\n",
       "      <th>Single_ETR/2004/page_258.pdf-4</th>\n",
       "      <td>Pre-Text:['entergy new orleans , inc .', \"mana...</td>\n",
       "      <td>what is the percent change in net revenue from...</td>\n",
       "    </tr>\n",
       "  </tbody>\n",
       "</table>\n",
       "</div>"
      ],
      "text/plain": [
       "                                                                          Context  \\\n",
       "Single_ETR/2008/page_336.pdf-3  Pre-Text:['entergy mississippi , inc .', \"mana...   \n",
       "Single_ETR/2011/page_22.pdf-3   Pre-Text:[\"entergy corporation and subsidiarie...   \n",
       "Single_ETR/2011/page_435.pdf-2  Pre-Text:['the target awards for the other nam...   \n",
       "Single_ETR/2004/page_20.pdf-2   Pre-Text:[\"entergy corporation and subsidiarie...   \n",
       "Single_ETR/2004/page_258.pdf-4  Pre-Text:['entergy new orleans , inc .', \"mana...   \n",
       "\n",
       "                                                                    QuestionsList  \n",
       "Single_ETR/2008/page_336.pdf-3  what is the percent change in net revenue betw...  \n",
       "Single_ETR/2011/page_22.pdf-3   what was the percentage change of the net reve...  \n",
       "Single_ETR/2011/page_435.pdf-2  what is actual operating cash flow reported fo...  \n",
       "Single_ETR/2004/page_20.pdf-2   what is the growth rate in net revenue in 2003...  \n",
       "Single_ETR/2004/page_258.pdf-4  what is the percent change in net revenue from...  "
      ]
     },
     "execution_count": 7,
     "metadata": {},
     "output_type": "execute_result"
    }
   ],
   "source": [
    "# ONLY CHECKING FOR ONE ORGANIZATION, AND SEEING ONLY ONE QUESTION\n",
    "\n",
    "# Select only the required parts from the json, and using id as key as it is unique\n",
    "\n",
    "import tiktoken\n",
    "import pandas as pd\n",
    "\n",
    "reformatted_data = {}\n",
    "for item in data:\n",
    "\n",
    "    if item['filename'].split('/')[0] == \"ETR\":\n",
    "            \n",
    "        # Define empty list to add the data\n",
    "        selected_data = []\n",
    "\n",
    "        # First add the text and tables\n",
    "        selected_data.append(f\"\"\"Pre-Text:{str(item['pre_text'])} \\n\n",
    "                                    Table: {str(item['table'])} \\n\n",
    "                                    Post-Text: {str(item['post_text'])}\"\"\")\n",
    "        \n",
    "        # Also adding questions for reference\n",
    "        if item.get('qa'):\n",
    "            selected_data.append(item['qa']['question'])\n",
    "        else:\n",
    "            # Different from other file\n",
    "            selected_data.append(item['qa_0']['question'])\n",
    "\n",
    "        reformatted_data [item['id']] = selected_data\n",
    "\n",
    "\n",
    "\n",
    "# Choose the correct encoding based on the OpenAI model\n",
    "encoding = tiktoken.get_encoding(\"cl100k_base\") \n",
    "\n",
    "total_tokens = 0\n",
    "for datakey in reformatted_data:\n",
    "    current_tokens = len(encoding.encode(reformatted_data[datakey][0]))\n",
    "    if current_tokens>8000:\n",
    "        print(\"EXCEEDING:\", current_tokens)\n",
    "    total_tokens += current_tokens\n",
    "\n",
    "print(\"TOTAL TOKENS: \", total_tokens)\n",
    "print(f\"Price for Embedding V3 Small -> {total_tokens*0.02/1000000}\")\n",
    "print(f\"Price for Embedding V3 Large -> {total_tokens*0.13/1000000}\")\n",
    "print(f\"\")\n",
    "\n",
    "dataframe_with_relevant_data = pd.DataFrame.from_dict(reformatted_data, orient=\"index\", columns=[\"Context\", \"QuestionsList\"])\n",
    "dataframe_with_relevant_data.head()\n"
   ]
  },
  {
   "cell_type": "code",
   "execution_count": 9,
   "metadata": {},
   "outputs": [
    {
     "name": "stdout",
     "output_type": "stream",
     "text": [
      "(198, 2)\n"
     ]
    },
    {
     "data": {
      "text/plain": [
       "(170, 2)"
      ]
     },
     "execution_count": 9,
     "metadata": {},
     "output_type": "execute_result"
    }
   ],
   "source": [
    "print(dataframe_with_relevant_data.shape)\n",
    "df_unique = dataframe_with_relevant_data.drop_duplicates(subset=['Context','QuestionsList'])\n",
    "df_unique.shape"
   ]
  },
  {
   "cell_type": "code",
   "execution_count": 10,
   "metadata": {},
   "outputs": [],
   "source": [
    "dataframe_with_relevant_data = df_unique"
   ]
  },
  {
   "cell_type": "code",
   "execution_count": null,
   "metadata": {},
   "outputs": [],
   "source": [
    "from openai import OpenAI\n",
    "from dotenv import load_dotenv\n",
    "import os\n",
    "\n",
    "# Setting the API Key\n",
    "dotenv_path = os.path.abspath(os.path.join(os.path.dirname(\"__file__\"), \"../..\", \"OPENAI_KEY.env\"))\n",
    "load_dotenv(dotenv_path)\n",
    "\n",
    "\n",
    "api_key = os.getenv(\"OPENAI_API_KEY\")\n",
    "\n",
    "client = OpenAI(\n",
    "    api_key=api_key,\n",
    ")\n",
    "\n",
    "\n",
    "def get_embedding(text, model=\"text-embedding-3-small\"):\n",
    "    text = text.replace(\"\\n\", \" \")\n",
    "    return client.embeddings.create(input = [text], model=model).data[0].embedding\n",
    "\n",
    "\n",
    "dataframe_with_relevant_data['embedding_small_context'] = dataframe_with_relevant_data.Context.apply(lambda x: get_embedding(x, model='text-embedding-3-small'))\n",
    "dataframe_with_relevant_data['embedding_small_question'] = dataframe_with_relevant_data.QuestionsList.apply(lambda x: get_embedding(x, model='text-embedding-3-small'))\n"
   ]
  },
  {
   "cell_type": "code",
   "execution_count": null,
   "metadata": {},
   "outputs": [],
   "source": [
    "# LARGE EMBEDDINGS\n",
    "\n",
    "\n",
    "def get_embedding(text, model=\"text-embedding-3-large\"):\n",
    "    text = text.replace(\"\\n\", \" \")\n",
    "    return client.embeddings.create(input = [text], model=model).data[0].embedding\n",
    "\n",
    "\n",
    "dataframe_with_relevant_data['embedding_large_context'] = dataframe_with_relevant_data.Context.apply(lambda x: get_embedding(x, model='text-embedding-3-large'))\n",
    "dataframe_with_relevant_data['embedding_large_question'] = dataframe_with_relevant_data.QuestionsList.apply(lambda x: get_embedding(x, model='text-embedding-3-large'))\n",
    "\n"
   ]
  },
  {
   "cell_type": "code",
   "execution_count": null,
   "metadata": {},
   "outputs": [],
   "source": [
    "dataframe_with_relevant_data.to_parquet(\"ETR_DATA.parquet\")"
   ]
  },
  {
   "cell_type": "markdown",
   "metadata": {},
   "source": [
    "Recall with Small Embeddings "
   ]
  },
  {
   "cell_type": "code",
   "execution_count": 19,
   "metadata": {},
   "outputs": [
    {
     "name": "stdout",
     "output_type": "stream",
     "text": [
      "{'Recall@1': 0.11176470588235295, 'Recall@3': 0.2823529411764706, 'Recall@5': 0.3941176470588235, 'Recall@10': 0.5705882352941176}\n"
     ]
    }
   ],
   "source": [
    "import numpy as np\n",
    "import pandas as pd\n",
    "from sklearn.metrics.pairwise import cosine_similarity\n",
    "\n",
    "# Sample DataFrame (use your actual DataFrame)\n",
    "df = dataframe_with_relevant_data  # Your DataFrame\n",
    "\n",
    "# Convert embedding columns to NumPy arrays\n",
    "context_embeddings = np.vstack(df[\"embedding_small_context\"].values)   # Shape: (num_contexts, embedding_dim)\n",
    "question_embeddings = np.vstack(df[\"embedding_small_question\"].values) # Shape: (num_questions, embedding_dim)\n",
    "\n",
    "# Compute cosine similarity (each row in question_embeddings compared to all context embeddings)\n",
    "similarity_matrix = cosine_similarity(question_embeddings, context_embeddings)  # Shape: (num_questions, num_contexts)\n",
    "\n",
    "# Function to compute recall@K\n",
    "def compute_recall_at_k(similarity_matrix, k):\n",
    "    num_questions = similarity_matrix.shape[0]\n",
    "    correct_matches = 0\n",
    "    \n",
    "    for i in range(num_questions):\n",
    "        # Get indices of top K most similar context embeddings for question i\n",
    "        top_k_indices = np.argsort(similarity_matrix[i])[::-1][:k]  # Sort in descending order\n",
    "        \n",
    "        # Check if the correct context (same row in DataFrame) is in the top K\n",
    "        if i in top_k_indices:\n",
    "            correct_matches += 1\n",
    "\n",
    "    recall_at_k = correct_matches / num_questions\n",
    "    return recall_at_k\n",
    "\n",
    "# Evaluate recall for different values of K\n",
    "k_values = [1, 3, 5, 10]\n",
    "recall_scores = {f\"Recall@{k}\": compute_recall_at_k(similarity_matrix, k) for k in k_values}\n",
    "\n",
    "# Print recall scores\n",
    "print(recall_scores)\n"
   ]
  },
  {
   "cell_type": "markdown",
   "metadata": {},
   "source": [
    "Recall with Large Contextual Embeddings"
   ]
  },
  {
   "cell_type": "code",
   "execution_count": 20,
   "metadata": {},
   "outputs": [
    {
     "name": "stdout",
     "output_type": "stream",
     "text": [
      "{'Recall@1': 0.1411764705882353, 'Recall@3': 0.34705882352941175, 'Recall@5': 0.4294117647058823, 'Recall@10': 0.5470588235294118, 'Recall@20': 0.6823529411764706}\n"
     ]
    }
   ],
   "source": [
    "import numpy as np\n",
    "import pandas as pd\n",
    "from sklearn.metrics.pairwise import cosine_similarity\n",
    "\n",
    "# Sample DataFrame (use your actual DataFrame)\n",
    "df = dataframe_with_relevant_data  # Your DataFrame\n",
    "\n",
    "# Convert embedding columns to NumPy arrays\n",
    "context_embeddings = np.vstack(df[\"embedding_large_context\"].values)   # Shape: (num_contexts, embedding_dim)\n",
    "question_embeddings = np.vstack(df[\"embedding_large_question\"].values) # Shape: (num_questions, embedding_dim)\n",
    "\n",
    "# Compute cosine similarity (each row in question_embeddings compared to all context embeddings)\n",
    "similarity_matrix = cosine_similarity(question_embeddings, context_embeddings)  # Shape: (num_questions, num_contexts)\n",
    "\n",
    "# Function to compute recall@K\n",
    "def compute_recall_at_k(similarity_matrix, k):\n",
    "    num_questions = similarity_matrix.shape[0]\n",
    "    correct_matches = 0\n",
    "    \n",
    "    for i in range(num_questions):\n",
    "        # Get indices of top K most similar context embeddings for question i\n",
    "        top_k_indices = np.argsort(similarity_matrix[i])[::-1][:k]  # Sort in descending order\n",
    "        \n",
    "        # Check if the correct context (same row in DataFrame) is in the top K\n",
    "        if i in top_k_indices:\n",
    "            correct_matches += 1\n",
    "\n",
    "    recall_at_k = correct_matches / num_questions\n",
    "    return recall_at_k\n",
    "\n",
    "# Evaluate recall for different values of K\n",
    "k_values = [1, 3, 5, 10, 20]\n",
    "recall_scores = {f\"Recall@{k}\": compute_recall_at_k(similarity_matrix, k) for k in k_values}\n",
    "\n",
    "# Print recall scores\n",
    "print(recall_scores)\n"
   ]
  },
  {
   "cell_type": "markdown",
   "metadata": {},
   "source": [
    "Recall with TF-IDF"
   ]
  },
  {
   "cell_type": "code",
   "execution_count": 21,
   "metadata": {},
   "outputs": [
    {
     "name": "stdout",
     "output_type": "stream",
     "text": [
      "Lexical Search Recall Scores: {'Lexical Recall@1': 0.1588235294117647, 'Lexical Recall@3': 0.4, 'Lexical Recall@5': 0.5294117647058824, 'Lexical Recall@10': 0.7235294117647059}\n"
     ]
    }
   ],
   "source": [
    "import numpy as np\n",
    "import pandas as pd\n",
    "from sklearn.feature_extraction.text import TfidfVectorizer\n",
    "from sklearn.metrics.pairwise import cosine_similarity\n",
    "\n",
    "# Sample DataFrame (Use your actual DataFrame)\n",
    "df = dataframe_with_relevant_data  # Your dataset with 'Context' and 'QuestionsList'\n",
    "\n",
    "# Step 1: Initialize the TF-IDF Vectorizer\n",
    "vectorizer = TfidfVectorizer()\n",
    "\n",
    "# Step 2: Fit the TF-IDF vectorizer on the Contexts only (Do not train on questions)\n",
    "vectorizer.fit(df[\"Context\"].tolist())\n",
    "\n",
    "# Step 3: Transform the contexts and questions (note that questions are transformed using the pre-fitted vectorizer)\n",
    "context_tfidf = vectorizer.transform(df[\"Context\"].tolist())  # Transform the contexts\n",
    "question_tfidf = vectorizer.transform(df[\"QuestionsList\"].tolist())  # Transform the questions\n",
    "\n",
    "# Step 4: Compute cosine similarity (Lexical similarity between questions and contexts)\n",
    "lexical_similarity_matrix = cosine_similarity(question_tfidf, context_tfidf)\n",
    "\n",
    "# Step 5: Function to compute recall@K for lexical search\n",
    "def compute_recall_at_k_lexical(similarity_matrix, k):\n",
    "    num_questions = similarity_matrix.shape[0]\n",
    "    correct_matches = 0\n",
    "\n",
    "    for i in range(num_questions):\n",
    "        # Get indices of top K most similar contexts for question i\n",
    "        top_k_indices = np.argsort(similarity_matrix[i])[::-1][:k]\n",
    "\n",
    "        # Check if the correct context is in the top K\n",
    "        if i in top_k_indices:\n",
    "            correct_matches += 1\n",
    "\n",
    "    recall_at_k = correct_matches / num_questions\n",
    "    return recall_at_k\n",
    "\n",
    "# Step 6: Evaluate Recall@K for lexical search (for different values of k)\n",
    "k_values = [1, 3, 5, 10]\n",
    "lexical_recall_scores = {f\"Lexical Recall@{k}\": compute_recall_at_k_lexical(lexical_similarity_matrix, k) for k in k_values}\n",
    "\n",
    "# Step 7: Print lexical recall scores\n",
    "print(\"Lexical Search Recall Scores:\", lexical_recall_scores)\n"
   ]
  },
  {
   "cell_type": "markdown",
   "metadata": {},
   "source": [
    "Hybrid Search Large Embeddings"
   ]
  },
  {
   "cell_type": "code",
   "execution_count": 23,
   "metadata": {},
   "outputs": [
    {
     "name": "stdout",
     "output_type": "stream",
     "text": [
      "Combined Lexical + Embedding Search Recall Scores: {'Combined Recall@1': 0.22941176470588234, 'Combined Recall@3': 0.5, 'Combined Recall@5': 0.5882352941176471, 'Combined Recall@10': 0.7823529411764706, 'Combined Recall@20': 0.8764705882352941}\n"
     ]
    }
   ],
   "source": [
    "import numpy as np\n",
    "import pandas as pd\n",
    "from sklearn.feature_extraction.text import TfidfVectorizer\n",
    "from sklearn.metrics.pairwise import cosine_similarity\n",
    "\n",
    "# Sample DataFrame (Use your actual DataFrame)\n",
    "df = dataframe_with_relevant_data  # Your dataset with 'Context', 'QuestionsList', 'embedding_small_context', 'embedding_small_question'\n",
    "\n",
    "# Step 1: Initialize the TF-IDF Vectorizer\n",
    "vectorizer = TfidfVectorizer()\n",
    "\n",
    "# Step 2: Fit the TF-IDF vectorizer on the Contexts only (Do not train on questions)\n",
    "vectorizer.fit(df[\"Context\"].tolist())\n",
    "\n",
    "# Step 3: Transform the contexts and questions (note that questions are transformed using the pre-fitted vectorizer)\n",
    "context_tfidf = vectorizer.transform(df[\"Context\"].tolist())  # Transform the contexts\n",
    "question_tfidf = vectorizer.transform(df[\"QuestionsList\"].tolist())  # Transform the questions\n",
    "\n",
    "# Step 4: Retrieve the embedding vectors for context and questions\n",
    "# Assuming `embedding_small_context` and `embedding_small_question` are columns containing the precomputed embeddings\n",
    "context_embeddings = np.vstack(df[\"embedding_large_context\"].values)  # Context embeddings\n",
    "question_embeddings = np.vstack(df[\"embedding_large_question\"].values)  # Question embeddings\n",
    "\n",
    "# Step 5: Combine TF-IDF and embeddings for context and questions\n",
    "# Directly concatenate the TF-IDF vectors and embeddings\n",
    "context_combined = np.hstack([context_tfidf.toarray(), context_embeddings])\n",
    "question_combined = np.hstack([question_tfidf.toarray(), question_embeddings])\n",
    "\n",
    "# Step 6: Compute cosine similarity (Lexical + Embedding similarity)\n",
    "combined_similarity_matrix = cosine_similarity(question_combined, context_combined)\n",
    "\n",
    "# Step 7: Function to compute recall@K for combined lexical and embedding search\n",
    "def compute_recall_at_k_combined(similarity_matrix, k):\n",
    "    num_questions = similarity_matrix.shape[0]\n",
    "    correct_matches = 0\n",
    "\n",
    "    for i in range(num_questions):\n",
    "        # Get indices of top K most similar contexts for question i\n",
    "        top_k_indices = np.argsort(similarity_matrix[i])[::-1][:k]\n",
    "\n",
    "        # Check if the correct context is in the top K\n",
    "        if i in top_k_indices:\n",
    "            correct_matches += 1\n",
    "\n",
    "    recall_at_k = correct_matches / num_questions\n",
    "    return recall_at_k\n",
    "\n",
    "# Step 8: Evaluate Recall@K for combined lexical and embedding search (for different values of k)\n",
    "k_values = [1, 3, 5, 10, 20]\n",
    "combined_recall_scores = {f\"Combined Recall@{k}\": compute_recall_at_k_combined(combined_similarity_matrix, k) for k in k_values}\n",
    "\n",
    "# Step 9: Print combined recall scores\n",
    "print(\"Combined Lexical + Embedding Search Recall Scores:\", combined_recall_scores)\n"
   ]
  },
  {
   "cell_type": "code",
   "execution_count": null,
   "metadata": {},
   "outputs": [],
   "source": []
  }
 ],
 "metadata": {
  "kernelspec": {
   "display_name": "tomoro",
   "language": "python",
   "name": "python3"
  },
  "language_info": {
   "codemirror_mode": {
    "name": "ipython",
    "version": 3
   },
   "file_extension": ".py",
   "mimetype": "text/x-python",
   "name": "python",
   "nbconvert_exporter": "python",
   "pygments_lexer": "ipython3",
   "version": "3.12.8"
  }
 },
 "nbformat": 4,
 "nbformat_minor": 2
}
