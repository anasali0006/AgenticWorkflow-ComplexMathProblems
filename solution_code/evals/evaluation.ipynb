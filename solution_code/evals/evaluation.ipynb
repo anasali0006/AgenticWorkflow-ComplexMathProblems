{
 "cells": [
  {
   "cell_type": "code",
   "execution_count": 1,
   "metadata": {},
   "outputs": [],
   "source": [
    "import os\n",
    "import sys\n",
    "\n",
    "current_dir = os.getcwd()\n",
    "path_to_main = os.path.dirname(current_dir)\n",
    "\n",
    "sys.path.append(path_to_main)\n",
    "os.chdir(path_to_main)\n",
    "\n",
    "from main import Driver"
   ]
  },
  {
   "cell_type": "code",
   "execution_count": 2,
   "metadata": {},
   "outputs": [],
   "source": [
    "import json\n",
    "\n",
    "file_path = \"../train.json\"\n",
    "with open(file_path, \"r\") as file:\n",
    "    data = json.load(file)\n",
    "\n",
    "\n",
    "all_organizations = list(set([item['filename'].split('/')[0] for item in data]))\n",
    "\n",
    "question_answers = {}\n",
    "for organization in all_organizations:\n",
    "    for item in data:\n",
    "        if item['filename'].split('/')[0] == organization:\n",
    "\n",
    "            if item.get(\"qa\"):\n",
    "                question = f\"\"\"{organization}. {item[\"qa\"][\"question\"]}\"\"\"\n",
    "                answer = item[\"qa\"][\"answer\"]\n",
    "            else:\n",
    "                question = f\"\"\"{organization}. {item[\"qa_0\"][\"question\"]}\"\"\"\n",
    "                answer = item[\"qa_0\"][\"answer\"]\n",
    "            \n",
    "            question_answers[question] = answer\n"
   ]
  },
  {
   "cell_type": "code",
   "execution_count": 3,
   "metadata": {},
   "outputs": [],
   "source": [
    "## These questions and their correct answers are already present in the train.json file. \n",
    "## We can query these questions to the system and see if it is able to generate answers for them correctly or not\n",
    "## Based on this we can calculate the accuracy of the system on this dataset. "
   ]
  },
  {
   "cell_type": "code",
   "execution_count": 4,
   "metadata": {},
   "outputs": [
    {
     "data": {
      "text/plain": [
       "2683"
      ]
     },
     "execution_count": 4,
     "metadata": {},
     "output_type": "execute_result"
    }
   ],
   "source": [
    "len(question_answers)"
   ]
  },
  {
   "cell_type": "code",
   "execution_count": 5,
   "metadata": {},
   "outputs": [
    {
     "data": {
      "text/plain": [
       "{'AAPL. what was the percentage change in rent expense under operating leases from 2011 to 2012?': '44%',\n",
       " 'SLB. what is the ratio of the total costs of shares purchased from 2008 to 2009 in dollars': '3.6',\n",
       " 'ETR. what are the nuclear fuel expenses as a percentage of the decrease in net revenue from 2012 to 2013?': '38.5%',\n",
       " 'UNP. as of december 31 , 2013 what was the percent of the total operating non-cancelable lease terms in excess of one year due in 2015': '11.7%',\n",
       " 'PNC. does a .5% ( .5 % ) decrease in expected long-term return on assets have a greater effect on pension expense than a .5% ( .5 % ) increase in compensation rate?': 'yes',\n",
       " 'GS. what is the percentage change in the net unrecognized tax benefit in 2011 compare to 2010?': '18.8%',\n",
       " 'MRO. by how much did the wti crude oil benchmark increase from 2009 to 2011?': '53.2%',\n",
       " 'ECL. how many square feet are leased by the company?': '222000',\n",
       " 'WRK. what was the percentage change in the segment income': '4.84%',\n",
       " 'RE. in 2008 what was the ratio of the realized investment gains to the unrealized investment losses .': '2.24',\n",
       " 'HFC. what was the average storage costs from 2015 to 2017 in millions': '137.8',\n",
       " 'LMT. what was the percentage change in total long-term debt net between 2013 and 2014?': '0%',\n",
       " 'ETR. what percent did net revenue decrease between 2016 and 2017?': '2.7%',\n",
       " 'ETR. what is the growth rate in net revenue in 2017?': '-4.7%',\n",
       " 'RE. what was the rate of increase in 2007 shareholder dividends paid?': '211%',\n",
       " 'GS. what is the growth rate in net revenues in 2011?': '-20.7%',\n",
       " 'ADBE. what is the yearly amortization rate related to the trademarks?': '12.5%',\n",
       " 'ABMD. for the ecp and ais transactions , what portion of the total consideration was paid immediately in cash?': '72.4%',\n",
       " 'IPG. what was the percentage decrease between total number of shares purchased in october and november?': '99.93%',\n",
       " 'ETR. what is the growth rate in net revenue in 2015?': '-25.1%',\n",
       " 'APTV. what is the total return on delphi automotive plc for the five year period ending december 31 2015?': '318.67%',\n",
       " 'AWK. by how much did income from continuing operations increase from 2012 to 2014?': '13.8%',\n",
       " 'AES. what percentage on net assets acquired is due to goodwill?': '71%',\n",
       " 'WRK. what percent did segment income increase from 2017 to 2018': '41.18%',\n",
       " 'LMT. what is the growth rate in operating profit for mfc in 2013?': '13.9%',\n",
       " 'GS. the firm redeemed approximately $ 1.06 billion of these interests in hedge funds during the year ended december 2012 . what percentage was this of the remaining funds at 12/31/21?': '48.9%',\n",
       " 'IP. what was the net change in diluted earnings ( loss ) per common share from continuing operations between 2008 and 2009?': '$ 4.57',\n",
       " 'HFC. in 2011 what was the percent of the change in the performance shares outstanding': '39.3%',\n",
       " 'UNP. what was the percentage change in rental income from 2005 to 2006?': '41%',\n",
       " 'ETR. what is the percent change in debt to capital from 2012 to 2013?': '1.38%',\n",
       " 'AON. what is the difference between the statutory tax rate and the effective tax rate for international operations in 2018?': '-7.3',\n",
       " 'LMT. what is the growth rate in net sales for mfc in 2011?': '7.7%',\n",
       " 'C. as of december 31 , 2015 , what was the percentage of the loans extended under home equity lines of credit in the citi 2019s home equity loan portfolio': '72.4%',\n",
       " 'UNP. in 2010 what was the percent of the cash provided by operations that was from receivables securitization facility': '8.9%',\n",
       " 'AON. what is the total amount reported in issuance of shares for employee benefit plans in the last three years , ( in millions ) ?': '517',\n",
       " 'GS. what is the growth rate in operating expenses in 2018?': '12.0%',\n",
       " 'C. what was the percentage change in the carrying amount reported on the consolidated balance sheet from 2007 to 2008?': '-33%',\n",
       " 'ECL. what is the percentage change in the balance of gross liability for unrecognized tax benefits from 2015 to 2016?': '1.9%',\n",
       " 'RE. what was the change in the reinsurance receivables and premium receivables from 2014 to 2013 in thousands': '-408',\n",
       " 'STT. in 2001 , what percent of gains were lost in foreign currency translation': '27.84%',\n",
       " 'HIG. what is the percent of the total company 2019s aggregate contractual obligations due for property and casualty obligations in less than 1 year': '26.4%',\n",
       " 'AMT. what is the growth rate in the weighted average fair value per share of espp share purchase options from 2013 to 2014?': '10.5%',\n",
       " 'BDX. what is the percentage increase in service costs from 2017 to 2018?': '23.64%',\n",
       " 'IPG. how much has cash equivalents and marketable securities decreased from 2014 to 2016?': '33.9% decrease',\n",
       " 'UNP. what is the percent of the owned and operated of the rail network route miles': '81.7%',\n",
       " 'HII. what is the total value of issued securities that are approved by security holders , in billions?': '13.7',\n",
       " 'GPN. how much did the annual payments increase from 2019 to 2024 and beyond?': '350824 thousand',\n",
       " 'MO. what is the growth rate in net earnings attributable to altria group inc . in 2016?': '171.7%',\n",
       " 'BLL. what is the average balance of letters of credit outstanding as of december 31 , 2007 and 2006 , in millions?': '46.7',\n",
       " 'STT. what is the percentage change in the balance of the outstanding commercial papers from 2007 to 2008?': '9.7%',\n",
       " 'DISCA. what was the percentage cumulative total shareholder return on disca common stock for the five year period ended december 31 , 2017?': '-30.99%',\n",
       " 'ZBH. what is the percentage change in unrecognized tax benefits between 2007 and 2008?': '-4%',\n",
       " 'SWKS. in 2012 what was the percentage change in the gross unrecognized tax benefits': '63%',\n",
       " 'AAPL. what was the percentage change in inventory between 2005 and 2006?': '64%',\n",
       " 'MMM. what was percentage change in the net cash used in financing activities from 2006 to 2007': '23.6%',\n",
       " 'AMT. what is the percentage change in aggregate rent expense from 2005 to 2006?': '40.5%',\n",
       " 'PM. what was the change in millions of total accumulated other comprehensive losses from 2015 to 2016?': '-157',\n",
       " \"AWK. what is the company's net valuation allowance at the end of 2013?\": '$ 10576',\n",
       " 'MAR. what is the potential gain if the notes and other long-term assets had been sold at the end of 2005?': '38',\n",
       " 'HII. what portion of the equity compensation plan approved by security holders remains available for future issuance?': '90.9%',\n",
       " 'ADBE. what is the percentage change in total gross amount of unrecognized tax benefits from 2012 to 2013?': '-15.2%',\n",
       " 'UPS. what was the percentage change in pension and postretirement plan contributions ( ups-sponsored plans ) from 2015 to 2016?': '117%',\n",
       " 'DISCA. what was the percentage cumulative total shareholder return on discb for the five year period ended december 31 , 2018?': '-27.1%',\n",
       " 'ADBE. what is the growth rate in the average price of repurchased shares from 2009 to 2010?': '4.7%',\n",
       " 'ECL. what is the percentage change in the balance of allowance for doubtful accounts from 2016 to 2017?': '5.8%',\n",
       " 'VLO. by what percentage did the share price increase from october to november 2017?': '5.3%',\n",
       " 'AAPL. what was the percentage change in the gross unrecognized tax benefits between 2011 and 2012?': '50%',\n",
       " 'AMT. what is the growth rate in the weighted average fair value per share of espp share purchase options from 2012 to 2013?': '-1.6%',\n",
       " 'AON. what is the net amount of uncertain tax positions for 2015 , ( in millions )': '27',\n",
       " 'AMT. in 2005 for the quarter ended june 30 what was the percent of the change in the class a common stock on the new york stock exchange from highest to lowest price': '29.97%',\n",
       " 'AMT. what is the percentage change in 401 ( k ) contributed amounts from 2003 to 2004?': '-35.4%',\n",
       " 'HUM. what is the value of the total premiums and aso fees , in billions?': '12.525',\n",
       " 'UNP. what was the percentage change in rent expense for operating leases with terms exceeding one month from 2012 to 2013?': '-2%',\n",
       " 'AES. what was the percentage change in the average spot rate between 2015 to 2016?': '-67%',\n",
       " 'EOG. considering the years 2017 and 2018 , what was the increase observed in the net capitalized costs?': '9.80%',\n",
       " 'INTC. what is the net change in accumulated other comprehensive income during 2015?': '-606',\n",
       " 'AAPL. what is the percentage change in annual operating cash flow from 2010 to 2011?': '102%',\n",
       " 'EL. considering the foreign exchange contracts , what is the difference between its average during 2008 and 2009?': '10.3',\n",
       " 'DISH. what is the percentage change in rent expense for operating leases from 2001 to 2002?': '14.3%',\n",
       " 'PNC. excluding recognized in 2011 in connection with prior acquisitions , what would net income be in millions?': '2953',\n",
       " 'AON. what was the percentage change in the revenues from 2009 to 2010': '66.6%',\n",
       " 'GPN. what was the percentage increase of total fair value of share awards vested from 2007 to 2009?': '265% increase',\n",
       " 'STT. by what percent did the risk free interest rate increase between 2004 and 2006?': '52.32%',\n",
       " 'UNP. if vies were consolidated , what would the total minimum lease payments increase to , in millions?': '10282',\n",
       " 'AAPL. interest and dividend income was what percent of total other income in 2011?': '125',\n",
       " 'ZBH. what was the percentage change in total rent expense from 2006 to 2007?': '19%',\n",
       " 'GS. what percentage of future minimum rental payments are due after 2022?': '39%',\n",
       " 'C. what was the percentage change in the allowance for loan losses from 2007 to 2008?': '80%',\n",
       " 'JPM. what was the consumer expected loss allowance at 12/31/2002 , in billions?': '2.4',\n",
       " 'ADBE. what portion of the presented investments is due within 24 months?': '74.2%',\n",
       " 'ETR. how is cash flow of entergy arkansas affected by the change in balance of money pool from 2015 to 2016?': '-1510',\n",
       " 'RSG. what was the percentage change in the weighted-average estimated fair values of stock options granted from 2013 to 2014': '8.9%',\n",
       " 'LLY. what i the yearly amortization expense related to developed product technology?': '70.53',\n",
       " 'UNP. what is the average operating revenue from 2008-2010 , in millions?': '16359.3',\n",
       " 'JPM. at december 31 , 2014 what was the structured notes fva balance in billions?': '-0.25',\n",
       " 'WELL. by number of properties , outpatient medical was what percent of the total?': '20.0%',\n",
       " 'DG. what is the percentage change in held-to-maturity securities at cost and at fair value as of january 30 , 2009?': '-8.0%',\n",
       " 'RSG. as of year ended december 31 2008 what was the number of shares available for the basic earnings per share': '375.9',\n",
       " 'GS. of operating results of the institutional client services segment , in millions , what percentage of equities client execution for 2012 relates to net revenues related to reinsurance?': '34.1%',\n",
       " 'APD. considering the average for the years 2021-2025 , what is the increase observed in the projected benefit payments for the u.s during 2020 and 2021?': '16.63%'}"
      ]
     },
     "execution_count": 5,
     "metadata": {},
     "output_type": "execute_result"
    }
   ],
   "source": [
    "# Running all of them would cost a lot, hence I am taking a random sample of 100 queries and will compare their results. \n",
    "\n",
    "import random\n",
    "\n",
    "random.seed(42)\n",
    "random_questions = dict(random.sample(list(question_answers.items()), 100))\n",
    "random_questions\n"
   ]
  },
  {
   "cell_type": "code",
   "execution_count": 6,
   "metadata": {},
   "outputs": [],
   "source": [
    "driver = Driver()"
   ]
  },
  {
   "cell_type": "code",
   "execution_count": 7,
   "metadata": {},
   "outputs": [
    {
     "name": "stdout",
     "output_type": "stream",
     "text": [
      "Quesion skipped due to bad data\n",
      "Quesion skipped due to bad data\n",
      "Quesion skipped due to bad data\n",
      "Quesion skipped due to bad data\n",
      "Quesion skipped due to bad data\n",
      "Quesion skipped due to bad data\n"
     ]
    }
   ],
   "source": [
    "import math\n",
    "\n",
    "# Assuming random_questions is a dictionary\n",
    "updated_questions = {}\n",
    "\n",
    "for question, correct_answer in random_questions.items():\n",
    "    try:\n",
    "        if type(correct_answer) == str:\n",
    "            correct_answer_float = float(correct_answer.rstrip(\"%\"))\n",
    "        else:\n",
    "            correct_answer_float = float(correct_answer)\n",
    "    except:\n",
    "        print(\"Quesion skipped due to bad data\")\n",
    "        continue\n",
    "\n",
    "    # run the main flow\n",
    "    result_from_system = driver.main_flow(question)\n",
    "\n",
    "    # Store the result in a new dictionary\n",
    "    updated_questions[question] = {\"correct_answer\": correct_answer_float,\n",
    "                                   \"system_answer\": result_from_system['answer'],\n",
    "                                   \"message_from_system\": result_from_system['message'] }\n"
   ]
  },
  {
   "cell_type": "code",
   "execution_count": 8,
   "metadata": {},
   "outputs": [],
   "source": [
    "# updated_questions"
   ]
  },
  {
   "cell_type": "code",
   "execution_count": 9,
   "metadata": {},
   "outputs": [],
   "source": [
    "import math\n",
    "\n",
    "total_questions = 0\n",
    "success_count = 0\n",
    "\n",
    "for question in updated_questions:\n",
    "    correct_answer = updated_questions[question]['correct_answer']\n",
    "    system_answer = updated_questions[question]['system_answer']\n",
    "\n",
    "    if system_answer is None:\n",
    "        # This means either retrieval failure, or question was not mathematical, etc..\n",
    "        # skipping these scenarios as we are independently checking if the system was able to generate correct resposnse\n",
    "        # Only keeping those messages in the eval which actually indicate system failure \n",
    "        if updated_questions[question]['message_from_system'] in (\"Not able to find answer in the provided context\", \"No steps produced\", \"Problem in executor\"):\n",
    "            total_questions+=1\n",
    "    else:\n",
    "        total_questions+=1\n",
    "        success = math.isclose(round(correct_answer, 1) , round(system_answer, 1), abs_tol=1)\n",
    "        if success:\n",
    "            success_count +=1\n",
    "    \n",
    "    # print(system_answer, correct_answer, success)\n",
    "        "
   ]
  },
  {
   "cell_type": "code",
   "execution_count": 10,
   "metadata": {},
   "outputs": [
    {
     "data": {
      "text/plain": [
       "0.4090909090909091"
      ]
     },
     "execution_count": 10,
     "metadata": {},
     "output_type": "execute_result"
    }
   ],
   "source": [
    "accuracy = success_count/total_questions\n",
    "accuracy"
   ]
  },
  {
   "cell_type": "code",
   "execution_count": null,
   "metadata": {},
   "outputs": [],
   "source": [
    "\n"
   ]
  },
  {
   "cell_type": "code",
   "execution_count": null,
   "metadata": {},
   "outputs": [],
   "source": []
  }
 ],
 "metadata": {
  "kernelspec": {
   "display_name": "tomoro",
   "language": "python",
   "name": "python3"
  },
  "language_info": {
   "codemirror_mode": {
    "name": "ipython",
    "version": 3
   },
   "file_extension": ".py",
   "mimetype": "text/x-python",
   "name": "python",
   "nbconvert_exporter": "python",
   "pygments_lexer": "ipython3",
   "version": "3.12.8"
  }
 },
 "nbformat": 4,
 "nbformat_minor": 2
}
